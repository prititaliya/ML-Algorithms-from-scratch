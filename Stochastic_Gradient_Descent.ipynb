{
  "nbformat": 4,
  "nbformat_minor": 0,
  "metadata": {
    "colab": {
      "provenance": [],
      "authorship_tag": "ABX9TyMaa4y008JdIc5OrHy1iI4x",
      "include_colab_link": true
    },
    "kernelspec": {
      "name": "python3",
      "display_name": "Python 3"
    },
    "language_info": {
      "name": "python"
    }
  },
  "cells": [
    {
      "cell_type": "markdown",
      "metadata": {
        "id": "view-in-github",
        "colab_type": "text"
      },
      "source": [
        "<a href=\"https://colab.research.google.com/github/prititaliya/ML-Algorithms-from-scratch/blob/main/Stochastic_Gradient_Descent.ipynb\" target=\"_parent\"><img src=\"https://colab.research.google.com/assets/colab-badge.svg\" alt=\"Open In Colab\"/></a>"
      ]
    },
    {
      "cell_type": "code",
      "execution_count": 1,
      "metadata": {
        "id": "JFKt8v2W483N"
      },
      "outputs": [],
      "source": [
        "import pandas as pd\n",
        "import numpy as np\n",
        "import matplotlib.pyplot as plt\n",
        "import seaborn as sns"
      ]
    },
    {
      "cell_type": "code",
      "source": [
        "from sklearn.datasets import make_regression"
      ],
      "metadata": {
        "id": "9c6TTtGW5ER-"
      },
      "execution_count": 16,
      "outputs": []
    },
    {
      "cell_type": "code",
      "source": [
        "X,y=make_regression(n_samples=1000,n_features=1,noise=10)"
      ],
      "metadata": {
        "id": "LU_ratEf6ei9"
      },
      "execution_count": 20,
      "outputs": []
    },
    {
      "cell_type": "code",
      "source": [
        "from sklearn.model_selection import train_test_split\n",
        "from sklearn.linear_model import LinearRegression\n",
        "lin_model=LinearRegression()"
      ],
      "metadata": {
        "id": "J6Pamyky6oIp"
      },
      "execution_count": 22,
      "outputs": []
    },
    {
      "cell_type": "code",
      "source": [
        "X_train,X_test,y_train,y_test=train_test_split(X,y,test_size=0.2,random_state=0)\n",
        "lin_model.fit(X_train,y_train)\n",
        "lin_model.score(X_test,y_test)"
      ],
      "metadata": {
        "colab": {
          "base_uri": "https://localhost:8080/"
        },
        "id": "wM6-QAmQ6uJj",
        "outputId": "4f321bc4-b1a5-4b1f-eff9-0ccd7c3f5aca"
      },
      "execution_count": 23,
      "outputs": [
        {
          "output_type": "execute_result",
          "data": {
            "text/plain": [
              "0.9864437315141331"
            ]
          },
          "metadata": {},
          "execution_count": 23
        }
      ]
    },
    {
      "cell_type": "code",
      "source": [
        "from operator import index\n",
        "class SGDRegressorScratch:\n",
        "    def __init__(self,learning_rate=0.01,epochs=100):\n",
        "        self.learning_rate=learning_rate\n",
        "        self.epochs=epochs\n",
        "        self.b=None\n",
        "        self.m=None\n",
        "\n",
        "    def fit(self,X_train,y_train):\n",
        "        self.m=0\n",
        "        self.b=np.ones(X_train.shape[1])\n",
        "\n",
        "        for i in range(self.epochs):\n",
        "            for j in range(X_train.shape[0]):\n",
        "               index=np.random.randint(0,X_train.shape[0])\n",
        "               y_hat=np.dot(X_train[index],self.m)+self.b\n",
        "               self.b=self.b-(self.learning_rate*-2*(y_train[index]-y_hat))\n",
        "               self.m=self.m-(self.learning_rate*-2*(np.dot((y_train[index]-y_hat),X_train[index])))\n",
        "        return self\n",
        "\n",
        "    def predict(self,X_test):\n",
        "        return np.dot(X_test,self.m)+self.b"
      ],
      "metadata": {
        "id": "ErtN4EuX6xWT"
      },
      "execution_count": 56,
      "outputs": []
    },
    {
      "cell_type": "code",
      "source": [
        "sgs=SGDRegressorScratch(learning_rate=0.01,epochs=10)\n",
        "sgs.fit(X_train,y_train)"
      ],
      "metadata": {
        "colab": {
          "base_uri": "https://localhost:8080/"
        },
        "id": "xNAetQ987YCv",
        "outputId": "551dc473-07bf-4146-aea4-a09e76b08707"
      },
      "execution_count": 60,
      "outputs": [
        {
          "output_type": "execute_result",
          "data": {
            "text/plain": [
              "<__main__.SGDRegressorScratch at 0x79965caad850>"
            ]
          },
          "metadata": {},
          "execution_count": 60
        }
      ]
    },
    {
      "cell_type": "code",
      "source": [
        "print(sgs.m,lin_model.coef_)\n",
        "print(sgs.b,lin_model.intercept_)"
      ],
      "metadata": {
        "colab": {
          "base_uri": "https://localhost:8080/"
        },
        "id": "3EfrfhUb7hBu",
        "outputId": "31bebdda-da8b-4db9-904d-be64fcc146f7"
      },
      "execution_count": 61,
      "outputs": [
        {
          "output_type": "stream",
          "name": "stdout",
          "text": [
            "80.73193830465969 [81.97798714]\n",
            "[-1.41645115] -0.23931132403999822\n"
          ]
        }
      ]
    },
    {
      "cell_type": "code",
      "source": [],
      "metadata": {
        "id": "ZRxuMIeT7xTT"
      },
      "execution_count": null,
      "outputs": []
    }
  ]
}